{
 "cells": [
  {
   "cell_type": "code",
   "execution_count": 1,
   "metadata": {},
   "outputs": [],
   "source": [
    "import requests\n",
    "from bs4 import BeautifulSoup\n",
    "import sqlite3"
   ]
  },
  {
   "cell_type": "code",
   "execution_count": 2,
   "metadata": {},
   "outputs": [],
   "source": [
    "#Paso 2: Obtener el contenido de la página web\n",
    "\n",
    "url = \"https://www.avalanches.org/fatalities/\"\n",
    "response = requests.get(url)\n",
    "html = response.text\n"
   ]
  },
  {
   "cell_type": "code",
   "execution_count": 3,
   "metadata": {},
   "outputs": [],
   "source": [
    "#Paso 3: Analizar el contenido HTML con Beautiful Soup\n",
    "\n",
    "soup = BeautifulSoup(html, \"html.parser\")\n"
   ]
  },
  {
   "cell_type": "code",
   "execution_count": 4,
   "metadata": {},
   "outputs": [],
   "source": [
    "#Paso 4: Extraer la información relevante\n",
    "\n",
    "data_rows = soup.select(\"table tr\")[1:]  # Excluye la primera fila de encabezados\n",
    "\n",
    "records = []\n",
    "for row in data_rows:\n",
    "    columns = row.find_all(\"td\")\n",
    "    location = columns[0].text.strip()\n",
    "    country = columns[1].text.strip()\n",
    "    date = columns[2].text.strip()\n",
    "    problem_1 = columns[3].text.strip()\n",
    "    problem_2 = columns[4].text.strip()\n",
    "    dead = columns[5].text.strip()\n",
    "    group_size = columns[6].text.strip()\n",
    "    atype = columns[7].text.strip()\n",
    "\n",
    "    records.append((location, country, date, problem_1, problem_2, dead, group_size, atype))\n",
    "\n"
   ]
  },
  {
   "cell_type": "code",
   "execution_count": 5,
   "metadata": {},
   "outputs": [],
   "source": [
    "#Paso 5: Conectar y escribir en la base de datos SQLite\n",
    "\n",
    "conn = sqlite3.connect(\"avalanche_fatalities_22_23.db\")\n",
    "cursor = conn.cursor()\n",
    "\n",
    "# Crea la tabla si no existe\n",
    "cursor.execute('''\n",
    "    CREATE TABLE IF NOT EXISTS fatalities (\n",
    "        id INTEGER PRIMARY KEY,\n",
    "        location TEXT,\n",
    "        country TEXT,\n",
    "        date TEXT,\n",
    "        avalanche_problem_1 TEXT,\n",
    "        avalanche_problem_2 TEXT,\n",
    "        dead TEXT,\n",
    "        group_size TEXT,\n",
    "        type TEXT\n",
    "    )\n",
    "''')\n",
    "\n",
    "# Inserta los registros en la tabla\n",
    "cursor.executemany('''\n",
    "    INSERT INTO fatalities (location, country, date, avalanche_problem_1, avalanche_problem_2, dead, group_size, type)\n",
    "    VALUES (?, ?, ?, ?, ?, ?, ?, ?)\n",
    "''', records)\n",
    "\n",
    "conn.commit()\n",
    "conn.close()"
   ]
  },
  {
   "cell_type": "code",
   "execution_count": 6,
   "metadata": {},
   "outputs": [],
   "source": [
    "import csv     \n",
    " \n",
    "# Nombre del archivo CSV\n",
    "csv_filename = \"avalanche_fatalities_22_23.csv\"\n",
    "\n",
    "# Encabezados para el archivo CSV\n",
    "csv_headers = [\"Location\", \"Country\", \"Date\", \"Avalanche Problem 1\", \"Avalanche Problem 2\", \"Dead\", \"Group Size\", \"Type\"]\n",
    "\n",
    "# Escribir los registros en el archivo CSV\n",
    "with open(csv_filename, \"w\", newline=\"\", encoding=\"utf-8\") as csv_file:\n",
    "    csv_writer = csv.writer(csv_file)\n",
    "    \n",
    "    # Escribir los encabezados\n",
    "    csv_writer.writerow(csv_headers)\n",
    "    \n",
    "    # Escribir los registros\n",
    "    for record in records:\n",
    "        csv_writer.writerow(record)\n",
    "\n"
   ]
  }
 ],
 "metadata": {
  "kernelspec": {
   "display_name": "Python 3",
   "language": "python",
   "name": "python3"
  },
  "language_info": {
   "codemirror_mode": {
    "name": "ipython",
    "version": 3
   },
   "file_extension": ".py",
   "mimetype": "text/x-python",
   "name": "python",
   "nbconvert_exporter": "python",
   "pygments_lexer": "ipython3",
   "version": "3.9.5"
  },
  "orig_nbformat": 4
 },
 "nbformat": 4,
 "nbformat_minor": 2
}

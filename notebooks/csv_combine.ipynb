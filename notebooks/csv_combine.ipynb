{
 "cells": [
  {
   "cell_type": "code",
   "execution_count": 3,
   "metadata": {},
   "outputs": [
    {
     "name": "stdout",
     "output_type": "stream",
     "text": [
      "Archivos CSV combinados y guardados exitosamente.\n"
     ]
    }
   ],
   "source": [
    "import pandas as pd\n",
    "import glob\n",
    "\n",
    "# Lista de las rutas completas de los archivos CSV que deseas combinar\n",
    "csv_files = [\n",
    "    r'C:\\Users\\Jaime\\Desktop\\PROYECTOS DATA SCIENCE\\Europe-s-Avalanches-18-22\\data\\18-19\\avalanche_fatalities_18_19.csv',\n",
    "    r'C:\\Users\\Jaime\\Desktop\\PROYECTOS DATA SCIENCE\\Europe-s-Avalanches-18-22\\data\\19-20\\avalanche_fatalities_19_20.csv',\n",
    "    r'C:\\Users\\Jaime\\Desktop\\PROYECTOS DATA SCIENCE\\Europe-s-Avalanches-18-22\\data\\20-21\\avalanche_fatalities_20_21.csv',\n",
    "    r'C:\\Users\\Jaime\\Desktop\\PROYECTOS DATA SCIENCE\\Europe-s-Avalanches-18-22\\data\\21-22\\avalanche_fatalities_21_22.csv',\n",
    "    r'C:\\Users\\Jaime\\Desktop\\PROYECTOS DATA SCIENCE\\Europe-s-Avalanches-18-22\\data\\22_23\\avalanche_fatalities_22_23.csv'\n",
    "]\n",
    "\n",
    "# Leer y combinar los archivos CSV en un DataFrame\n",
    "combined_data = pd.concat([pd.read_csv(file) for file in csv_files], ignore_index=True)\n",
    "\n",
    "# Guardar el DataFrame combinado en un nuevo archivo CSV\n",
    "combined_data.to_csv('avalanche_fatalities_combined_18-23.csv', index=False)\n",
    "\n",
    "print(\"Archivos CSV combinados y guardados exitosamente.\")"
   ]
  }
 ],
 "metadata": {
  "kernelspec": {
   "display_name": "Python 3",
   "language": "python",
   "name": "python3"
  },
  "language_info": {
   "codemirror_mode": {
    "name": "ipython",
    "version": 3
   },
   "file_extension": ".py",
   "mimetype": "text/x-python",
   "name": "python",
   "nbconvert_exporter": "python",
   "pygments_lexer": "ipython3",
   "version": "3.9.5"
  },
  "orig_nbformat": 4
 },
 "nbformat": 4,
 "nbformat_minor": 2
}
